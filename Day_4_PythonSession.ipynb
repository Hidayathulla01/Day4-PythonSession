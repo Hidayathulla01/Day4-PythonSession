{
 "cells": [
  {
   "cell_type": "code",
   "execution_count": null,
   "id": "43355b4d-c0d8-44a9-8af9-3621dcd95339",
   "metadata": {},
   "outputs": [],
   "source": [
    "Introduction to LIST data types in python"
   ]
  },
  {
   "cell_type": "code",
   "execution_count": 1,
   "id": "5b5aa75e-59f6-47f7-a2ee-fa1a65c51064",
   "metadata": {},
   "outputs": [
    {
     "name": "stdout",
     "output_type": "stream",
     "text": [
      "['apple', 'banana', 'jackfruit']\n"
     ]
    }
   ],
   "source": [
    "fruits = ['apple','banana','jackfruit']\n",
    "print(fruits)"
   ]
  },
  {
   "cell_type": "code",
   "execution_count": 3,
   "id": "ec401aeb-e9a8-44d7-b946-0c51e415a3c9",
   "metadata": {},
   "outputs": [
    {
     "name": "stdout",
     "output_type": "stream",
     "text": [
      "Apple\n"
     ]
    }
   ],
   "source": [
    "#print the particular element in a list\n",
    "print(fruits[0].title())"
   ]
  },
  {
   "cell_type": "code",
   "execution_count": 9,
   "id": "4f3ec59e-1017-4aff-b8df-4e2ac9a36c6b",
   "metadata": {},
   "outputs": [
    {
     "name": "stdout",
     "output_type": "stream",
     "text": [
      "['apple', 'banana', 'jackfruit', 'orange']\n"
     ]
    }
   ],
   "source": [
    "#add the element in the list\n",
    "fruits.append('orange')\n",
    "print(fruits)"
   ]
  },
  {
   "cell_type": "code",
   "execution_count": 17,
   "id": "785f3ae7-582b-4870-a288-32430bdcb205",
   "metadata": {},
   "outputs": [
    {
     "name": "stdout",
     "output_type": "stream",
     "text": [
      "['apple', 'jackfruit', 'orange']\n"
     ]
    }
   ],
   "source": [
    "#Delete the element in list\n",
    "del fruits[1]\n",
    "print(fruits)"
   ]
  },
  {
   "cell_type": "code",
   "execution_count": 23,
   "id": "fb282807-e960-4b43-bced-ed37a29460d0",
   "metadata": {},
   "outputs": [
    {
     "name": "stdout",
     "output_type": "stream",
     "text": [
      "['apple', 'banana', 'banana', 'jackfruit', 'orange']\n",
      "['Dates', 'apple', 'banana', 'banana', 'jackfruit', 'orange']\n"
     ]
    }
   ],
   "source": [
    "#insert the element in middle of the list\n",
    "fruits.insert(1,'banana')\n",
    "print(fruits)\n",
    "fruits.insert(0,'Dates')\n",
    "print(fruits)"
   ]
  },
  {
   "cell_type": "code",
   "execution_count": 31,
   "id": "ed4e755e-5a23-4de6-a2e4-2bb44085134d",
   "metadata": {},
   "outputs": [
    {
     "name": "stdout",
     "output_type": "stream",
     "text": [
      "Dates\n"
     ]
    }
   ],
   "source": [
    "#Modify the element in list\n",
    "fruits[1] = 'lemon'\n",
    "print(fruits[0].title())\n",
    "print(fruits[0].title())"
   ]
  },
  {
   "cell_type": "code",
   "execution_count": null,
   "id": "5a222f4a-186f-44ac-90bb-067d10e5beb4",
   "metadata": {},
   "outputs": [],
   "source": []
  },
  {
   "cell_type": "code",
   "execution_count": null,
   "id": "7aea41dc-ea4c-46ca-aaba-8e1dafbfce32",
   "metadata": {},
   "outputs": [],
   "source": []
  },
  {
   "cell_type": "code",
   "execution_count": null,
   "id": "b52d4f99-e2ed-43e7-ae85-fae44d7dc322",
   "metadata": {},
   "outputs": [],
   "source": []
  },
  {
   "cell_type": "code",
   "execution_count": null,
   "id": "44bd064b-913e-477f-9dce-213d635ba73d",
   "metadata": {},
   "outputs": [],
   "source": []
  },
  {
   "cell_type": "code",
   "execution_count": null,
   "id": "672e52a4-bcc8-4b6c-8b55-f38730865431",
   "metadata": {},
   "outputs": [],
   "source": []
  }
 ],
 "metadata": {
  "kernelspec": {
   "display_name": "Python 3 (ipykernel)",
   "language": "python",
   "name": "python3"
  },
  "language_info": {
   "codemirror_mode": {
    "name": "ipython",
    "version": 3
   },
   "file_extension": ".py",
   "mimetype": "text/x-python",
   "name": "python",
   "nbconvert_exporter": "python",
   "pygments_lexer": "ipython3",
   "version": "3.12.4"
  }
 },
 "nbformat": 4,
 "nbformat_minor": 5
}
